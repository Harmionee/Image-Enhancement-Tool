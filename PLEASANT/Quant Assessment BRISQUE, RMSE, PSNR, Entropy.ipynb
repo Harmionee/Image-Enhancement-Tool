{
 "cells": [
  {
   "cell_type": "code",
   "execution_count": 2,
   "metadata": {},
   "outputs": [],
   "source": [
    "import tifffile\n",
    "import matplotlib.pyplot as plt\n",
    "import numpy as np\n",
    "import cv2\n",
    "from brisque import BRISQUE\n",
    "from skimage.measure import compare_mse as mse\n",
    "from scipy.stats import entropy"
   ]
  },
  {
   "cell_type": "code",
   "execution_count": 3,
   "metadata": {},
   "outputs": [],
   "source": [
    "#1. BRISQUE"
   ]
  },
  {
   "cell_type": "code",
   "execution_count": 4,
   "metadata": {},
   "outputs": [
    {
     "data": {
      "text/plain": [
       "35.7985247985458"
      ]
     },
     "execution_count": 4,
     "metadata": {},
     "output_type": "execute_result"
    }
   ],
   "source": [
    "#Enter the image path directly as the argument\n",
    "brisque = BRISQUE('/home/training/Harmionee/MSR_result.tif', url=False)\n",
    "\n",
    "brisque.score()"
   ]
  },
  {
   "cell_type": "code",
   "execution_count": 7,
   "metadata": {},
   "outputs": [],
   "source": [
    "#Read the two images for comparison for RMSE and PSNR\n",
    "image1 = image1 =  tifffile.imread('/home/training/Harmionee/MCC_Images/MCC_MRC_20141110T172436240_D_GDS.IMG (RGB).tif')\n",
    "image2 = tifffile.imread('/home/training/Harmionee/MSR_result.tif')"
   ]
  },
  {
   "cell_type": "code",
   "execution_count": 6,
   "metadata": {},
   "outputs": [],
   "source": [
    "#2. Root Mean Square Error\n",
    "def rmse(image1, image2):\n",
    "    #split images into 3 colour channels \n",
    "    #image1\n",
    "    red_ch_1 = image1[:,:,0]\n",
    "    green_ch_1  = image1[:,:,1]\n",
    "    blue_ch_1 = image1[:,:,2]\n",
    "\n",
    "    #image2\n",
    "    red_ch_2 = image2[:,:,0]\n",
    "    green_ch_2  = image2[:,:,1]\n",
    "    blue_ch_2 = image2[:,:,2]\n",
    "    \n",
    "    #computing rmse between colour channels from skimage.mse\n",
    "    rmse_red = np.sqrt(mse(red_ch_1, red_ch_2))\n",
    "    rmse_green = np.sqrt(mse(green_ch_1, green_ch_2))\n",
    "    rmse_blue = np.sqrt(mse(blue_ch_1, blue_ch_2))\n",
    "    \n",
    "    #taking average\n",
    "    rmse_val = (rmse_red+rmse_green+rmse_blue)/3\n",
    "    return rmse_val"
   ]
  },
  {
   "cell_type": "code",
   "execution_count": 12,
   "metadata": {},
   "outputs": [],
   "source": [
    "#3. Peak to Signal Ration\n",
    "#To compute PSNR calculate RMSE first\n",
    "def psnr(rmse):\n",
    "    psnr = 20*np.log10(255/rmse)\n",
    "    return psnr"
   ]
  },
  {
   "cell_type": "code",
   "execution_count": 67,
   "metadata": {},
   "outputs": [],
   "source": [
    "#4. Entropy"
   ]
  },
  {
   "cell_type": "code",
   "execution_count": 66,
   "metadata": {},
   "outputs": [],
   "source": [
    "#read image to calculate entropy\n",
    "entropy_im = cv2.imread('/home/training/Harmionee/MCC_Images/MCC_MRC_20141110T172436240_D_GDS.IMG (RGB).tif')"
   ]
  },
  {
   "cell_type": "code",
   "execution_count": 63,
   "metadata": {},
   "outputs": [],
   "source": [
    "def entropy_func(image):\n",
    "    #split image and compute entropy for each induvidual channel\n",
    "    red_ch = entropy_im[:,:,0]\n",
    "    green_ch  = entropy_im[:,:,1]\n",
    "    blue_ch = entropy_im[:,:,2]\n",
    "    \n",
    "    #compute histograms for each channel\n",
    "    red_hist, red_bins = np.histogram(image.flatten(), 256, [0,256])\n",
    "    green_hist, green_bins = np.histogram(image.flatten(), 256, [0,256])\n",
    "    blue_hist, blue_bins = np.histogram(image.flatten(), 256, [0,256])\n",
    "    \n",
    "    #compute histograms for each channel\n",
    "    red_hist, red_bins = np.histogram(image.flatten(), 256, [0,256])\n",
    "    green_hist, green_bins = np.histogram(image.flatten(), 256, [0,256])\n",
    "    blue_hist, blue_bins = np.histogram(image.flatten(), 256, [0,256])\n",
    "    \n",
    "    #compute probability\n",
    "    red_prob = red_hist/red_hist.sum()\n",
    "    green_prob = green_hist/green_hist.sum()\n",
    "    blue_prob = blue_hist/blue_hist.sum()\n",
    "    \n",
    "    #calculate entropy\n",
    "    red_ch_entr = entropy(red_hist, base = 2)\n",
    "    green_ch_entr = entropy(green_hist, base = 2)\n",
    "    blue_ch_entr = entropy(blue_hist, base = 2)\n",
    "    mean_entropy = (red_ch_entr + green_ch_entr + blue_ch_entr)/3\n",
    "    return mean_entropy"
   ]
  },
  {
   "cell_type": "code",
   "execution_count": 69,
   "metadata": {},
   "outputs": [],
   "source": [
    "#5. RMS Contrast"
   ]
  },
  {
   "cell_type": "code",
   "execution_count": 73,
   "metadata": {},
   "outputs": [],
   "source": [
    "def rmsContrast():\n",
    "    #split image into colour channels\n",
    "    red = image[:,:,0]\n",
    "    green  = image[:,:,1]\n",
    "    blue = image[:,:,2]\n",
    "    \n",
    "    #calculate mean for each colour channel\n",
    "    red_mean = np.mean(red)\n",
    "    green_mean = np.mean(green)\n",
    "    blue_mean = np.mean(blue)\n",
    "    \n",
    "    #initialize sum to zero\n",
    "    red_sum = 0\n",
    "    blue_sum = 0\n",
    "    green_sum = 0\n",
    "    \n",
    "    #calculate mean squared difference for each channel\n",
    "    for i in range(2048):\n",
    "        for j in range(2048):\n",
    "            red_sum += (red[i][j] - red_mean)**2\n",
    "            green_sum += (green[i][j] - green_mean)**2\n",
    "            blue_sum += (blue[i][j] - blue_mean)**2\n",
    "        \n",
    "    #take sqrt\n",
    "    red_rms = np.sqrt(red_sum/(2048*2048))\n",
    "    green_rms = np.sqrt(green_sum/(2048*2048))\n",
    "    blue_rms = np.sqrt(blue_sum/(2048*2048))\n",
    "    \n",
    "    #take mean for all the colour channels\n",
    "    rms = (red_rms + blue_rms + green_rms)/3\n",
    "    return rms"
   ]
  }
 ],
 "metadata": {
  "kernelspec": {
   "display_name": "Python 3",
   "language": "python",
   "name": "python3"
  },
  "language_info": {
   "codemirror_mode": {
    "name": "ipython",
    "version": 3
   },
   "file_extension": ".py",
   "mimetype": "text/x-python",
   "name": "python",
   "nbconvert_exporter": "python",
   "pygments_lexer": "ipython3",
   "version": "3.6.5"
  }
 },
 "nbformat": 4,
 "nbformat_minor": 2
}
