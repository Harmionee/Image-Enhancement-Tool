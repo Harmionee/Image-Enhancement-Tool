{
 "cells": [
  {
   "cell_type": "code",
   "execution_count": 2,
   "metadata": {},
   "outputs": [],
   "source": [
    "import tifffile\n",
    "import matplotlib.pyplot as plt\n",
    "import numpy as np\n",
    "import cv2\n",
    "from brisque import BRISQUE\n",
    "from skimage.measure import compare_mse as mse\n",
    "from scipy.stats import entropy"
   ]
  },
  {
   "cell_type": "code",
   "execution_count": 3,
   "metadata": {},
   "outputs": [],
   "source": [
    "#1. BRISQUE"
   ]
  },
  {
   "cell_type": "code",
   "execution_count": 4,
   "metadata": {},
   "outputs": [
    {
     "data": {
      "text/plain": [
       "35.7985247985458"
      ]
     },
     "execution_count": 4,
     "metadata": {},
     "output_type": "execute_result"
    }
   ],
   "source": [
    "#Enter the image path directly as the argument\n",
    "brisque = BRISQUE('/home/training/Harmionee/MSR_result.tif', url=False)\n",
    "\n",
    "brisque.score()"
   ]
  },
  {
   "cell_type": "code",
   "execution_count": 7,
   "metadata": {},
   "outputs": [],
   "source": [
    "#Read the two images for comparison for RMSE and PSNR\n",
    "image1 = image1 =  tifffile.imread('/home/training/Harmionee/MCC_Images/MCC_MRC_20141110T172436240_D_GDS.IMG (RGB).tif')\n",
    "image2 = tifffile.imread('/home/training/Harmionee/MSR_result.tif')"
   ]
  },
  {
   "cell_type": "code",
   "execution_count": 6,
   "metadata": {},
   "outputs": [],
   "source": [
    "#2. Root Mean Square Error\n",
    "def rmse(image1, image2):\n",
    "    #split images into 3 colour channels \n",
    "    #image1\n",
    "    red_ch_1 = image1[:,:,0]\n",
    "    green_ch_1  = image1[:,:,1]\n",
    "    blue_ch_1 = image1[:,:,2]\n",
    "\n",
    "    #image2\n",
    "    red_ch_2 = image2[:,:,0]\n",
    "    green_ch_2  = image2[:,:,1]\n",
    "    blue_ch_2 = image2[:,:,2]\n",
    "    \n",
    "    #computing rmse between colour channels from skimage.mse\n",
    "    rmse_red = np.sqrt(mse(red_ch_1, red_ch_2))\n",
    "    rmse_green = np.sqrt(mse(green_ch_1, green_ch_2))\n",
    "    rmse_blue = np.sqrt(mse(blue_ch_1, blue_ch_2))\n",
    "    \n",
    "    #taking average\n",
    "    rmse_val = (rmse_red+rmse_green+rmse_blue)/3\n",
    "    return rmse_val"
   ]
  },
  {
   "cell_type": "code",
   "execution_count": null,
   "metadata": {},
   "outputs": [],
   "source": [
    "rmse_val = rmse(image1,image2)"
   ]
  },
  {
   "cell_type": "code",
   "execution_count": 116,
   "metadata": {},
   "outputs": [],
   "source": [
    "#3. Peak to Signal Ration\n",
    "#To compute PSNR calculate RMSE first\n",
    "def psnr(rmse):\n",
    "    psnr = 20*np.log10(255/rmse)\n",
    "    return psnr"
   ]
  },
  {
   "cell_type": "code",
   "execution_count": null,
   "metadata": {},
   "outputs": [],
   "source": [
    "#4. Entropy"
   ]
  },
  {
   "cell_type": "code",
   "execution_count": 76,
   "metadata": {},
   "outputs": [],
   "source": [
    "#read image to calculate entropy\n",
    "entropy_im = cv2.imread('/home/training/Harmionee/MCC_Images/EnlightenGAN/mars_image1.jpg')"
   ]
  },
  {
   "cell_type": "code",
   "execution_count": null,
   "metadata": {},
   "outputs": [],
   "source": [
    "def entropy_func(entropy_im):\n",
    "    #split image and compute entropy for each induvidual channel\n",
    "    red_ch_entr = entropy(red_prob, base = 2)\n",
    "    green_ch_entr = entropy(green_prob, base = 2)\n",
    "    blue_ch_entr = entropy(blue_prob, base = 2)\n",
    "    mean_entropy = (red_ch_entr + green_ch_entr + blue_ch_entr)/3\n",
    "    return mean_entropy"
   ]
  }
 ],
 "metadata": {
  "kernelspec": {
   "display_name": "Python 3",
   "language": "python",
   "name": "python3"
  },
  "language_info": {
   "codemirror_mode": {
    "name": "ipython",
    "version": 3
   },
   "file_extension": ".py",
   "mimetype": "text/x-python",
   "name": "python",
   "nbconvert_exporter": "python",
   "pygments_lexer": "ipython3",
   "version": "3.6.5"
  }
 },
 "nbformat": 4,
 "nbformat_minor": 2
}
