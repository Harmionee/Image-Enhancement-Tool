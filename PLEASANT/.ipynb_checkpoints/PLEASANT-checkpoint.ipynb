{
 "cells": [
  {
   "cell_type": "code",
   "execution_count": 3,
   "metadata": {},
   "outputs": [],
   "source": [
    "import matplotlib.pyplot as plt\n",
    "import cv2\n",
    "import numpy as np\n",
    "import tifffile\n",
    "from skimage import exposure\n",
    "from sklearn import decomposition"
   ]
  },
  {
   "cell_type": "code",
   "execution_count": 4,
   "metadata": {},
   "outputs": [],
   "source": [
    "def colour_correction(image):\n",
    "    color_corrected_image = np.zeros((2048,2048,3))\n",
    "    \n",
    "    #splitting image into RGB channels\n",
    "    red_channel = image[:,:,0].flatten().astype(np.float64)\n",
    "    green_channel = image[:,:,1].flatten().astype(np.float64)\n",
    "    blue_channel = image[:,:,2].flatten().astype(np.float64)\n",
    "    \n",
    "    #taking inverse of the first coeffcient matrix for colour correction\n",
    "    coefficient_matrix1  = np.array([[0.811, 0.176, 0.021], [0.259,0.621, 0.132], [0.151, 0.204, 0.657]])\n",
    "    inverse_matrix = np.linalg.inv(coefficient_matrix1)\n",
    "    \n",
    "    #RGB Matrix of size 4194304x3\n",
    "    rgb_matrix = np.stack((red_channel, green_channel, blue_channel), axis=-1)\n",
    "    \n",
    "    #Taking transpose so the RGB Matrix is now 3x4194304\n",
    "    unit = np.array([[1,0,0],[0,1,0],[0,0,1]])\n",
    "    rgb_matrix = np.matmul(rgb_matrix, unit).T\n",
    "    \n",
    "    #The new RGB channels after colour correction \n",
    "    new_rgb_matrix = inverse_matrix@rgb_matrix\n",
    "    new_rgb_matrix = np.matmul(unit,new_rgb_matrix).T\n",
    "    \n",
    "    #reshaping to get the colour corrected image\n",
    "    color_corrected_image[:,:,0] = np.reshape(new_rgb_matrix[:,0],(2048,2048))\n",
    "    color_corrected_image[:,:,1] = np.reshape(new_rgb_matrix[:,1],(2048,2048))\n",
    "    color_corrected_image[:,:,2] = np.reshape(new_rgb_matrix[:,2],(2048,2048))\n",
    "    return color_corrected_image"
   ]
  },
  {
   "cell_type": "code",
   "execution_count": 5,
   "metadata": {},
   "outputs": [],
   "source": [
    "def hsi_transform(image):\n",
    "    \n",
    "    red_channel = image[:,:,0].flatten().astype(np.float64)\n",
    "    green_channel = image[:,:,1].flatten().astype(np.float64)\n",
    "    blue_channel = image[:,:,2].flatten().astype(np.float64)\n",
    "    \n",
    "    #stacking rgb channels to make a 4194304x3 matrix\n",
    "    rgb_matrix = np.stack((red_channel, green_channel, blue_channel), axis=-1).astype(np.float64)\n",
    "    \n",
    "    #second coefficient matrix for transform to HSI color space\n",
    "    coefficient_matrix_2 = [[1/3,1/3,1/3],[1/np.sqrt(6),1/np.sqrt(6),-2/np.sqrt(6)],[1/np.sqrt(2),-1/np.sqrt(2),0]]\n",
    "    unit = np.array([[1,0,0],[0,1,0],[0,0,1]])\n",
    "    \n",
    "    #taking transpose of rgb matrix\n",
    "    rgb_matrix = np.matmul(rgb_matrix, unit).T\n",
    "    \n",
    "    #matmul to HSI\n",
    "    hsi_matrix = coefficient_matrix_2@rgb_matrix\n",
    "    \n",
    "    #pulling out intensity channel\n",
    "    intensity = hsi_matrix[0]\n",
    "    v1 = hsi_matrix[1]\n",
    "    v2 = hsi_matrix[2]\n",
    "    \n",
    "    #reshape intensity channel for intensity image\n",
    "    intensity_image = np.reshape(np.asarray(intensity),image[:,:,0].shape)\n",
    "    return intensity_image,hsi_matrix"
   ]
  },
  {
   "cell_type": "code",
   "execution_count": 6,
   "metadata": {},
   "outputs": [],
   "source": [
    "#tifffile.imshow(Intensity_Image)"
   ]
  },
  {
   "cell_type": "code",
   "execution_count": 7,
   "metadata": {},
   "outputs": [],
   "source": [
    "def clahe(image):\n",
    "    \n",
    "    #clipping the negative values\n",
    "    image = image.clip(0,1023)\n",
    "    image = image.astype(np.uint16)\n",
    "    \n",
    "    #applying clahe on the intensity channel taking clip limit = 0.01 and grid size as 32x32\n",
    "    enhanced_image = exposure.equalize_adapthist(image, clip_limit = 0.01, kernel_size = (32,32))\n",
    "    \n",
    "    #normalizing intensity values between 0 and 255\n",
    "    enhanced_image_normalized = cv2.normalize(enhanced_image,np.zeros((2048,2048)),0,255, cv2.NORM_MINMAX)\n",
    "    return enhanced_image_normalized"
   ]
  },
  {
   "cell_type": "code",
   "execution_count": 8,
   "metadata": {
    "scrolled": true
   },
   "outputs": [],
   "source": [
    "#tifffile.imshow(CLAHE_Enhanced_Intensity)"
   ]
  },
  {
   "cell_type": "code",
   "execution_count": 9,
   "metadata": {},
   "outputs": [],
   "source": [
    "def pca(image):\n",
    "    red_channel = image[:,:,0].flatten().astype(np.float64)\n",
    "    green_channel = image[:,:,1].flatten().astype(np.float64)\n",
    "    blue_channel = image[:,:,2].flatten().astype(np.float64)\n",
    "    \n",
    "    #stacking rgb channels to make a 4194304x3 matrix(matrix with 3 features)\n",
    "    rgb_matrix = np.stack((red_channel, green_channel, blue_channel), axis=-1).astype(np.float64)\n",
    "    \n",
    "    #no of principal components\n",
    "    p_components = 3\n",
    "    pca = decomposition.PCA(n_components = p_components)\n",
    "    \n",
    "    #PC are the principal components\n",
    "    PC = pca.fit_transform(rgb_matrix)\n",
    "    \n",
    "    #reshaping components to get PC images\n",
    "    PC_image = np.zeros((2048,2048,3))\n",
    "    PC_image[:,:,0] = np.reshape(PC[:,0],image[:,:,0].shape)\n",
    "    PC_image[:,:,1] = np.reshape(PC[:,1],image[:,:,0].shape)\n",
    "    PC_image[:,:,2] = np.reshape(PC[:,2],image[:,:,0].shape)\n",
    "    \n",
    "    #normalizing the values between o and 255\n",
    "    PC_image_norm = np.zeros((2048,2048,3))\n",
    "    PC_image_norm[:,:,0] = cv2.normalize(PC_image[:,:,0],np.zeros((2048,2048)),0,255, cv2.NORM_MINMAX)\n",
    "    PC_image_norm[:,:,1] = cv2.normalize(PC_image[:,:,1],np.zeros((2048,2048)),0,255, cv2.NORM_MINMAX)\n",
    "    PC_image_norm[:,:,2] = cv2.normalize(PC_image[:,:,2],np.zeros((2048,2048)),0,255, cv2.NORM_MINMAX)\n",
    "    \n",
    "    #return first principal component\n",
    "    return PC_image_norm[:,:,0]"
   ]
  },
  {
   "cell_type": "code",
   "execution_count": 10,
   "metadata": {},
   "outputs": [],
   "source": [
    "#tifffile.imshow(PCA_1)"
   ]
  },
  {
   "cell_type": "code",
   "execution_count": 11,
   "metadata": {},
   "outputs": [],
   "source": [
    "def histogram_match(source, reference):\n",
    "    \n",
    "    #source is clahe enhanced intensity channel\n",
    "    #reference is PCA first component\n",
    "    matched_image = np.zeros_like(source,dtype=np.float64)\n",
    "    source = source.astype(np.uint16)\n",
    "    reference = reference.astype(np.uint16)\n",
    "    source_array = np.array(source.flatten())\n",
    "    reference_array = np.array(reference.flatten())\n",
    "    def match_cumulative_cdf(source,reference):\n",
    "        src_lookup = source.reshape(-1)\n",
    "        \n",
    "        #source and reference bincount\n",
    "        src_counts = np.bincount(src_lookup)\n",
    "        ref_counts = np.bincount(reference.reshape(-1))\n",
    "        ref_values = np.nonzero(ref_counts)[0]\n",
    "        \n",
    "        #ref histogram\n",
    "        ref_counts = ref_counts[ref_values]\n",
    "        \n",
    "        #cdf source\n",
    "        src_quantiles = np.cumsum(src_counts)\n",
    "        \n",
    "        #cdf reference\n",
    "        ref_quantiles = np.cumsum(ref_counts)\n",
    "        \n",
    "        #interpolate soucre and reference cdf\n",
    "        interp_values = np.interp(src_quantiles,ref_quantiles, ref_values)\n",
    "        return interp_values[src_lookup].reshape(source.shape)\n",
    "    matched_image = match_cumulative_cdf(source, reference)\n",
    "    return matched_image"
   ]
  },
  {
   "cell_type": "code",
   "execution_count": 12,
   "metadata": {},
   "outputs": [],
   "source": [
    "#tifffile.imshow(Image_HM)"
   ]
  },
  {
   "cell_type": "code",
   "execution_count": 13,
   "metadata": {},
   "outputs": [],
   "source": [
    "def rgb_transform(Enhanced_Intensity_Channel, hsi_matrix):\n",
    "    \n",
    "    #Replacing the intensity component in the HSI Matrix\n",
    "    Enhanced_Intensity = np.array(Enhanced_Intensity_Channel.flatten())\n",
    "    hsi_matrix[0] = Enhanced_Intensity\n",
    "    \n",
    "    #Third coefficient matrix for transform to RGB\n",
    "    coefficient_matrix_3 = [[1,1/np.sqrt(6),1/np.sqrt(2)],[1,1/np.sqrt(6),-1/2],[1,-2/np.sqrt(6),0]]\n",
    "    \n",
    "    #Transform back to RGB\n",
    "    new_rgb_matrix = coefficient_matrix_3@hsi_matrix\n",
    "    \n",
    "    #new_rgb_image\n",
    "    new_rgb_img = np.zeros((2048,2048,3))\n",
    "    new_rgb_img[:,:,0] = np.reshape(np.asarray(new_rgb_matrix[0]),new_rgb_img[:,:,1].shape)\n",
    "    new_rgb_img[:,:,1] = np.reshape(np.asarray(new_rgb_matrix[1]),new_rgb_img[:,:,1].shape)\n",
    "    new_rgb_img[:,:,2] = np.reshape(np.asarray(new_rgb_matrix[2]),new_rgb_img[:,:,1].shape)\n",
    "    return new_rgb_img"
   ]
  },
  {
   "cell_type": "code",
   "execution_count": 14,
   "metadata": {},
   "outputs": [],
   "source": [
    "def adaptive_gamma_correction(image):\n",
    "    def image_agcwd(image, a=0.5):\n",
    "        \n",
    "        #taking the shape of the image h = 2048, w = 2048\n",
    "        h,w = image.shape[:2]\n",
    "        \n",
    "        #calculating histogram and bins\n",
    "        hist, bins = np.histogram(image.flatten(), 256, [0,256])\n",
    "        cdf = hist.cumsum()\n",
    "        cdf_normalized = cdf/cdf.max()\n",
    "        prob_normalized = hist/hist.sum()\n",
    "\n",
    "        unique_intensity = np.unique(image)\n",
    "        #max and min intensity values\n",
    "        intensity_max = unique_intensity.max()\n",
    "        intensity_min = unique_intensity.min()\n",
    "        \n",
    "        #max and min probability values \n",
    "        prob_min = prob_normalized.min()\n",
    "        prob_max = prob_normalized.max()\n",
    "        \n",
    "        #weighed probability function for calculated P(weighed) = ((P - Pmax)/(Pmax - Pmin))**a\n",
    "        #a value has been experimentally set to 0.5\n",
    "        pn_temp = (prob_normalized - prob_min)/(prob_max - prob_min)\n",
    "        pn_temp[pn_temp>0] = prob_max*(pn_temp[pn_temp>0]**a)\n",
    "        pn_temp[pn_temp<0] = prob_max*(-((-pn_temp[pn_temp<0])**a))\n",
    "        \n",
    "        #normalized weighed probability\n",
    "        prob_normalized_wd = pn_temp/ pn_temp.sum()\n",
    "        #cdf\n",
    "        cdf_prob_normalized_wd = prob_normalized_wd.cumsum()\n",
    "        \n",
    "        #adaptive gamma correction is given by image**(1-cdf)\n",
    "        #truncating cdf value to prevent overenhancing in the brighter regions\n",
    "        inverse_cdf = np.maximum(0.75,1-cdf_prob_normalized_wd)\n",
    "        \n",
    "        #normalizing luminiscence values\n",
    "        img_new = image.copy()\n",
    "        for i in unique_intensity:\n",
    "            img_new[image==i] = np.round(255*(i/255)** inverse_cdf[i])\n",
    "        return img_new\n",
    "    \n",
    "    #Transforming to YCrCb for adaptive gamma correction \n",
    "    YCrCb = cv2.cvtColor(image, cv2.COLOR_BGR2YCrCb)\n",
    "    \n",
    "    #pulling out the luminiscence component\n",
    "    Y = YCrCb[:,:,0]\n",
    "    \n",
    "    #calculating adaptive gamma correction for luminiscence\n",
    "    result= image_agcwd(Y, a=0.5)\n",
    "    YCrCb[:,:,0] =  result\n",
    "    \n",
    "    #convert back to RGB Color-Space\n",
    "    img_output = cv2.cvtColor(YCrCb, cv2.COLOR_YCrCb2BGR)\n",
    "    img_output_new = cv2.cvtColor(img_output, cv2.COLOR_BGR2RGB)\n",
    "    return img_output_new"
   ]
  },
  {
   "cell_type": "code",
   "execution_count": 15,
   "metadata": {},
   "outputs": [],
   "source": [
    "#tifffile.imshow(Image_GC)"
   ]
  },
  {
   "cell_type": "code",
   "execution_count": 16,
   "metadata": {},
   "outputs": [
    {
     "ename": "FileNotFoundError",
     "evalue": "[Errno 2] No such file or directory: '/home/training/Harmionee/python/PLEASANT/MCC_Images/MCC_MRC_20150423T072306117_D_D32.IMG (RGB).tif'",
     "output_type": "error",
     "traceback": [
      "\u001b[0;31m---------------------------------------------------------------------------\u001b[0m",
      "\u001b[0;31mFileNotFoundError\u001b[0m                         Traceback (most recent call last)",
      "\u001b[0;32m<ipython-input-16-b4354d9b8c2f>\u001b[0m in \u001b[0;36m<module>\u001b[0;34m()\u001b[0m\n\u001b[1;32m      1\u001b[0m \u001b[0;31m#read input Planetary Multi-Spectral Image (8-Bit)\u001b[0m\u001b[0;34m\u001b[0m\u001b[0;34m\u001b[0m\u001b[0m\n\u001b[0;32m----> 2\u001b[0;31m \u001b[0mInput_PMS_Image\u001b[0m \u001b[0;34m=\u001b[0m \u001b[0mtifffile\u001b[0m\u001b[0;34m.\u001b[0m\u001b[0mimread\u001b[0m\u001b[0;34m(\u001b[0m\u001b[0;34m\"MCC_Images/MCC_MRC_20150423T072306117_D_D32.IMG (RGB).tif\"\u001b[0m\u001b[0;34m)\u001b[0m\u001b[0;34m\u001b[0m\u001b[0m\n\u001b[0m",
      "\u001b[0;32m~/anaconda3/lib/python3.6/site-packages/tifffile/tifffile.py\u001b[0m in \u001b[0;36mimread\u001b[0;34m(files, **kwargs)\u001b[0m\n\u001b[1;32m    619\u001b[0m \u001b[0;34m\u001b[0m\u001b[0m\n\u001b[1;32m    620\u001b[0m     \u001b[0;32mif\u001b[0m \u001b[0misinstance\u001b[0m\u001b[0;34m(\u001b[0m\u001b[0mfiles\u001b[0m\u001b[0;34m,\u001b[0m \u001b[0mbasestring\u001b[0m\u001b[0;34m)\u001b[0m \u001b[0;32mor\u001b[0m \u001b[0mhasattr\u001b[0m\u001b[0;34m(\u001b[0m\u001b[0mfiles\u001b[0m\u001b[0;34m,\u001b[0m \u001b[0;34m'seek'\u001b[0m\u001b[0;34m)\u001b[0m\u001b[0;34m:\u001b[0m\u001b[0;34m\u001b[0m\u001b[0m\n\u001b[0;32m--> 621\u001b[0;31m         \u001b[0;32mwith\u001b[0m \u001b[0mTiffFile\u001b[0m\u001b[0;34m(\u001b[0m\u001b[0mfiles\u001b[0m\u001b[0;34m,\u001b[0m \u001b[0;34m**\u001b[0m\u001b[0mkwargs_file\u001b[0m\u001b[0;34m)\u001b[0m \u001b[0;32mas\u001b[0m \u001b[0mtif\u001b[0m\u001b[0;34m:\u001b[0m\u001b[0;34m\u001b[0m\u001b[0m\n\u001b[0m\u001b[1;32m    622\u001b[0m             \u001b[0;32mreturn\u001b[0m \u001b[0mtif\u001b[0m\u001b[0;34m.\u001b[0m\u001b[0masarray\u001b[0m\u001b[0;34m(\u001b[0m\u001b[0;34m**\u001b[0m\u001b[0mkwargs\u001b[0m\u001b[0;34m)\u001b[0m\u001b[0;34m\u001b[0m\u001b[0m\n\u001b[1;32m    623\u001b[0m     \u001b[0;32melse\u001b[0m\u001b[0;34m:\u001b[0m\u001b[0;34m\u001b[0m\u001b[0m\n",
      "\u001b[0;32m~/anaconda3/lib/python3.6/site-packages/tifffile/tifffile.py\u001b[0m in \u001b[0;36m__init__\u001b[0;34m(self, arg, name, offset, size, multifile, movie, **kwargs)\u001b[0m\n\u001b[1;32m   1919\u001b[0m                 \u001b[0;32mraise\u001b[0m \u001b[0mTypeError\u001b[0m\u001b[0;34m(\u001b[0m\u001b[0;34m'unexpected keyword argument: %s'\u001b[0m \u001b[0;34m%\u001b[0m \u001b[0mkey\u001b[0m\u001b[0;34m)\u001b[0m\u001b[0;34m\u001b[0m\u001b[0m\n\u001b[1;32m   1920\u001b[0m \u001b[0;34m\u001b[0m\u001b[0m\n\u001b[0;32m-> 1921\u001b[0;31m         \u001b[0mfh\u001b[0m \u001b[0;34m=\u001b[0m \u001b[0mFileHandle\u001b[0m\u001b[0;34m(\u001b[0m\u001b[0marg\u001b[0m\u001b[0;34m,\u001b[0m \u001b[0mmode\u001b[0m\u001b[0;34m=\u001b[0m\u001b[0;34m'rb'\u001b[0m\u001b[0;34m,\u001b[0m \u001b[0mname\u001b[0m\u001b[0;34m=\u001b[0m\u001b[0mname\u001b[0m\u001b[0;34m,\u001b[0m \u001b[0moffset\u001b[0m\u001b[0;34m=\u001b[0m\u001b[0moffset\u001b[0m\u001b[0;34m,\u001b[0m \u001b[0msize\u001b[0m\u001b[0;34m=\u001b[0m\u001b[0msize\u001b[0m\u001b[0;34m)\u001b[0m\u001b[0;34m\u001b[0m\u001b[0m\n\u001b[0m\u001b[1;32m   1922\u001b[0m         \u001b[0mself\u001b[0m\u001b[0;34m.\u001b[0m\u001b[0m_fh\u001b[0m \u001b[0;34m=\u001b[0m \u001b[0mfh\u001b[0m\u001b[0;34m\u001b[0m\u001b[0m\n\u001b[1;32m   1923\u001b[0m         \u001b[0mself\u001b[0m\u001b[0;34m.\u001b[0m\u001b[0m_multifile\u001b[0m \u001b[0;34m=\u001b[0m \u001b[0mbool\u001b[0m\u001b[0;34m(\u001b[0m\u001b[0mmultifile\u001b[0m\u001b[0;34m)\u001b[0m\u001b[0;34m\u001b[0m\u001b[0m\n",
      "\u001b[0;32m~/anaconda3/lib/python3.6/site-packages/tifffile/tifffile.py\u001b[0m in \u001b[0;36m__init__\u001b[0;34m(self, file, mode, name, offset, size)\u001b[0m\n\u001b[1;32m   5136\u001b[0m         \u001b[0mself\u001b[0m\u001b[0;34m.\u001b[0m\u001b[0mis_file\u001b[0m \u001b[0;34m=\u001b[0m \u001b[0;32mFalse\u001b[0m\u001b[0;34m\u001b[0m\u001b[0m\n\u001b[1;32m   5137\u001b[0m         \u001b[0mself\u001b[0m\u001b[0;34m.\u001b[0m\u001b[0m_lock\u001b[0m \u001b[0;34m=\u001b[0m \u001b[0mNullContext\u001b[0m\u001b[0;34m(\u001b[0m\u001b[0;34m)\u001b[0m\u001b[0;34m\u001b[0m\u001b[0m\n\u001b[0;32m-> 5138\u001b[0;31m         \u001b[0mself\u001b[0m\u001b[0;34m.\u001b[0m\u001b[0mopen\u001b[0m\u001b[0;34m(\u001b[0m\u001b[0;34m)\u001b[0m\u001b[0;34m\u001b[0m\u001b[0m\n\u001b[0m\u001b[1;32m   5139\u001b[0m \u001b[0;34m\u001b[0m\u001b[0m\n\u001b[1;32m   5140\u001b[0m     \u001b[0;32mdef\u001b[0m \u001b[0mopen\u001b[0m\u001b[0;34m(\u001b[0m\u001b[0mself\u001b[0m\u001b[0;34m)\u001b[0m\u001b[0;34m:\u001b[0m\u001b[0;34m\u001b[0m\u001b[0m\n",
      "\u001b[0;32m~/anaconda3/lib/python3.6/site-packages/tifffile/tifffile.py\u001b[0m in \u001b[0;36mopen\u001b[0;34m(self)\u001b[0m\n\u001b[1;32m   5149\u001b[0m             \u001b[0mself\u001b[0m\u001b[0;34m.\u001b[0m\u001b[0m_file\u001b[0m \u001b[0;34m=\u001b[0m \u001b[0mos\u001b[0m\u001b[0;34m.\u001b[0m\u001b[0mpath\u001b[0m\u001b[0;34m.\u001b[0m\u001b[0mrealpath\u001b[0m\u001b[0;34m(\u001b[0m\u001b[0mself\u001b[0m\u001b[0;34m.\u001b[0m\u001b[0m_file\u001b[0m\u001b[0;34m)\u001b[0m\u001b[0;34m\u001b[0m\u001b[0m\n\u001b[1;32m   5150\u001b[0m             \u001b[0mself\u001b[0m\u001b[0;34m.\u001b[0m\u001b[0m_dir\u001b[0m\u001b[0;34m,\u001b[0m \u001b[0mself\u001b[0m\u001b[0;34m.\u001b[0m\u001b[0m_name\u001b[0m \u001b[0;34m=\u001b[0m \u001b[0mos\u001b[0m\u001b[0;34m.\u001b[0m\u001b[0mpath\u001b[0m\u001b[0;34m.\u001b[0m\u001b[0msplit\u001b[0m\u001b[0;34m(\u001b[0m\u001b[0mself\u001b[0m\u001b[0;34m.\u001b[0m\u001b[0m_file\u001b[0m\u001b[0;34m)\u001b[0m\u001b[0;34m\u001b[0m\u001b[0m\n\u001b[0;32m-> 5151\u001b[0;31m             \u001b[0mself\u001b[0m\u001b[0;34m.\u001b[0m\u001b[0m_fh\u001b[0m \u001b[0;34m=\u001b[0m \u001b[0mopen\u001b[0m\u001b[0;34m(\u001b[0m\u001b[0mself\u001b[0m\u001b[0;34m.\u001b[0m\u001b[0m_file\u001b[0m\u001b[0;34m,\u001b[0m \u001b[0mself\u001b[0m\u001b[0;34m.\u001b[0m\u001b[0m_mode\u001b[0m\u001b[0;34m)\u001b[0m\u001b[0;34m\u001b[0m\u001b[0m\n\u001b[0m\u001b[1;32m   5152\u001b[0m             \u001b[0mself\u001b[0m\u001b[0;34m.\u001b[0m\u001b[0m_close\u001b[0m \u001b[0;34m=\u001b[0m \u001b[0;32mTrue\u001b[0m\u001b[0;34m\u001b[0m\u001b[0m\n\u001b[1;32m   5153\u001b[0m             \u001b[0;32mif\u001b[0m \u001b[0mself\u001b[0m\u001b[0;34m.\u001b[0m\u001b[0m_offset\u001b[0m \u001b[0;32mis\u001b[0m \u001b[0;32mNone\u001b[0m\u001b[0;34m:\u001b[0m\u001b[0;34m\u001b[0m\u001b[0m\n",
      "\u001b[0;31mFileNotFoundError\u001b[0m: [Errno 2] No such file or directory: '/home/training/Harmionee/python/PLEASANT/MCC_Images/MCC_MRC_20150423T072306117_D_D32.IMG (RGB).tif'"
     ]
    }
   ],
   "source": [
    "#read input Planetary Multi-Spectral Image (8-Bit)\n",
    "Input_PMS_Image = tifffile.imread(\"/homMCC_Images/MCC_MRC_20150423T072306117_D_D32.IMG (RGB).tif\")"
   ]
  },
  {
   "cell_type": "code",
   "execution_count": 17,
   "metadata": {},
   "outputs": [
    {
     "ename": "NameError",
     "evalue": "name 'Input_PMS_Image' is not defined",
     "output_type": "error",
     "traceback": [
      "\u001b[0;31m---------------------------------------------------------------------------\u001b[0m",
      "\u001b[0;31mNameError\u001b[0m                                 Traceback (most recent call last)",
      "\u001b[0;32m<timed exec>\u001b[0m in \u001b[0;36m<module>\u001b[0;34m()\u001b[0m\n",
      "\u001b[0;31mNameError\u001b[0m: name 'Input_PMS_Image' is not defined"
     ]
    }
   ],
   "source": [
    "%%time\n",
    "#PLEASANT Workflow\n",
    "#1. Color Correction\n",
    "Image_CCI = colour_correction(Input_PMS_Image)\n",
    "\n",
    "#2. Transform to HSI Space\n",
    "Intensity_Image, hsi_matrix = hsi_transform(Image_CCI)\n",
    "\n",
    "#3.Enhance Intensity_Image/ Intensity_Channel with CLAHE\n",
    "CLAHE_Enhanced_Intensity = clahe(Intensity_Image)\n",
    "\n",
    "#4. Calculate First Principal Component of the CCI (Color-Corrected Image)\n",
    "PCA_1 = pca(Image_CCI)\n",
    "\n",
    "#5. Histogram Matching of the CLAHE enhanced Intensity Channel by taking PCA1 as the reference\n",
    "Image_HM = histogram_match(CLAHE_Enhanced_Intensity, PCA_1)\n",
    "\n",
    "#6. Transform the new hsi matrix with the histogram matched intensity channel back to RGB color Space\n",
    "New_RGB_Image = rgb_transform(CLAHE_Enhanced_Intensity, hsi_matrix)\n",
    "\n",
    "#save the image and convert to png to map all the values between 0,255\n",
    "tifffile.imsave('home/training/Harmionee/MCC_Images/Final_Intensity_Enhanced.tif')\n",
    "\n",
    "#Re-read the image using cv2 so that it is read in BGR\n",
    "RGB_image = cv2.imread('MCC_Images_8Bit_Im3/Pital_Crater_Composite.png')\n",
    "\n",
    "#7.Perform Adaptive Gamma Correction on the image\n",
    "Image_GC = adaptive_gamma_correction(RGB_image)"
   ]
  },
  {
   "cell_type": "code",
   "execution_count": 2,
   "metadata": {},
   "outputs": [
    {
     "ename": "NameError",
     "evalue": "name 'plt' is not defined",
     "output_type": "error",
     "traceback": [
      "\u001b[0;31m---------------------------------------------------------------------------\u001b[0m",
      "\u001b[0;31mNameError\u001b[0m                                 Traceback (most recent call last)",
      "\u001b[0;32m<ipython-input-2-1647d53a6c9a>\u001b[0m in \u001b[0;36m<module>\u001b[0;34m()\u001b[0m\n\u001b[1;32m      1\u001b[0m \u001b[0;31m#PLEASANT Enhanced image\u001b[0m\u001b[0;34m\u001b[0m\u001b[0;34m\u001b[0m\u001b[0m\n\u001b[0;32m----> 2\u001b[0;31m \u001b[0mfigs\u001b[0m\u001b[0;34m,\u001b[0m \u001b[0maxs\u001b[0m \u001b[0;34m=\u001b[0m \u001b[0mplt\u001b[0m\u001b[0;34m.\u001b[0m\u001b[0msubplots\u001b[0m\u001b[0;34m(\u001b[0m\u001b[0;36m1\u001b[0m\u001b[0;34m,\u001b[0m\u001b[0;36m2\u001b[0m\u001b[0;34m,\u001b[0m\u001b[0mfigsize\u001b[0m\u001b[0;34m=\u001b[0m\u001b[0;34m(\u001b[0m\u001b[0;36m17\u001b[0m\u001b[0;34m,\u001b[0m\u001b[0;36m17\u001b[0m\u001b[0;34m)\u001b[0m\u001b[0;34m)\u001b[0m\u001b[0;34m\u001b[0m\u001b[0m\n\u001b[0m\u001b[1;32m      3\u001b[0m \u001b[0maxs\u001b[0m\u001b[0;34m[\u001b[0m\u001b[0;36m1\u001b[0m\u001b[0;34m]\u001b[0m\u001b[0;34m.\u001b[0m\u001b[0mimshow\u001b[0m\u001b[0;34m(\u001b[0m\u001b[0mImage_GC\u001b[0m\u001b[0;34m)\u001b[0m\u001b[0;34m\u001b[0m\u001b[0m\n\u001b[1;32m      4\u001b[0m \u001b[0maxs\u001b[0m\u001b[0;34m[\u001b[0m\u001b[0;36m1\u001b[0m\u001b[0;34m]\u001b[0m\u001b[0;34m.\u001b[0m\u001b[0mset_title\u001b[0m\u001b[0;34m(\u001b[0m\u001b[0;34m'PLEASANT-Enhanced Image'\u001b[0m\u001b[0;34m)\u001b[0m\u001b[0;34m\u001b[0m\u001b[0m\n\u001b[1;32m      5\u001b[0m \u001b[0maxs\u001b[0m\u001b[0;34m[\u001b[0m\u001b[0;36m0\u001b[0m\u001b[0;34m]\u001b[0m\u001b[0;34m.\u001b[0m\u001b[0mimshow\u001b[0m\u001b[0;34m(\u001b[0m\u001b[0mInput_PMS_Image\u001b[0m\u001b[0;34m)\u001b[0m\u001b[0;34m\u001b[0m\u001b[0m\n",
      "\u001b[0;31mNameError\u001b[0m: name 'plt' is not defined"
     ]
    }
   ],
   "source": [
    "#PLEASANT Enhanced image\n",
    "figs, axs = plt.subplots(1,2,figsize=(17,17))\n",
    "axs[1].imshow(Image_GC)\n",
    "axs[1].set_title('PLEASANT-Enhanced Image')\n",
    "axs[0].imshow(Input_PMS_Image)\n",
    "axs[0].set_title('Input Planetary Image')"
   ]
  },
  {
   "cell_type": "code",
   "execution_count": null,
   "metadata": {},
   "outputs": [],
   "source": []
  },
  {
   "cell_type": "code",
   "execution_count": null,
   "metadata": {},
   "outputs": [],
   "source": []
  },
  {
   "cell_type": "code",
   "execution_count": null,
   "metadata": {},
   "outputs": [],
   "source": []
  },
  {
   "cell_type": "code",
   "execution_count": null,
   "metadata": {},
   "outputs": [],
   "source": []
  },
  {
   "cell_type": "code",
   "execution_count": null,
   "metadata": {},
   "outputs": [],
   "source": []
  }
 ],
 "metadata": {
  "kernelspec": {
   "display_name": "Python 3",
   "language": "python",
   "name": "python3"
  },
  "language_info": {
   "codemirror_mode": {
    "name": "ipython",
    "version": 3
   },
   "file_extension": ".py",
   "mimetype": "text/x-python",
   "name": "python",
   "nbconvert_exporter": "python",
   "pygments_lexer": "ipython3",
   "version": "3.6.5"
  }
 },
 "nbformat": 4,
 "nbformat_minor": 2
}
