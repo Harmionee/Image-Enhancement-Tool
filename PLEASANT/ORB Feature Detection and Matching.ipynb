{
 "cells": [
  {
   "cell_type": "code",
   "execution_count": 4,
   "metadata": {},
   "outputs": [],
   "source": [
    "import tifffile\n",
    "import matplotlib.pyplot as plt\n",
    "import numpy as np\n",
    "import cv2"
   ]
  },
  {
   "cell_type": "code",
   "execution_count": 5,
   "metadata": {},
   "outputs": [],
   "source": [
    "#Reading the input image and the PLEASANT Enhanced Image\n",
    "input_im = tifffile.imread('/home/training/Harmionee/MCC_Images/MCC_MRC_20141110T172436240_D_GDS.IMG (RGB).tif')\n",
    "enhanced_im  = tifffile.imread('/home/training/Harmionee/MCC_Images_8Bit/Final_Intensity_AH_GC.tif')"
   ]
  },
  {
   "cell_type": "code",
   "execution_count": 6,
   "metadata": {},
   "outputs": [],
   "source": [
    "#The image i shifted by this matrix for feature matching \n",
    "#This matrix shifts the image 10 pixels to the right and 25 pixels downwards \n",
    "#negative values will shift the image towards the left and upwards\n",
    "M = np.float32([\n",
    "    [1,0,10],\n",
    "    [0,1,25]\n",
    "])\n",
    "\n",
    "#cv2.warpAffine for shifting the image\n",
    "shifted_out_im = cv2.warpAffine(enhanced_im,M,(enhanced_im.shape[1], enhanced_im.shape[0]))\n",
    "shifted_in_im  = cv2.warpAffine(input_im,M,(input_im.shape[1], input_im.shape[0]))"
   ]
  },
  {
   "cell_type": "code",
   "execution_count": 7,
   "metadata": {},
   "outputs": [],
   "source": [
    "#creating orb object\n",
    "orb = cv2.ORB_create()\n",
    "\n",
    "#converting the input and the output enhanced images to grayscale for feature detection\n",
    "gray_in = cv2.cvtColor(input_im, cv2.COLOR_RGB2GRAY)\n",
    "gray_out = cv2.cvtColor(enhanced_im, cv2.COLOR_RGB2GRAY)\n",
    "gray_shifted_in = cv2.cvtColor(shifted_in_im, cv2.COLOR_RGB2GRAY)\n",
    "gray_shifted_out = cv2.cvtColor(shifted_out_im, cv2.COLOR_RGB2GRAY)\n",
    "\n",
    "#computing keypoints and descriptors\n",
    "kp1, ds1 = orb.detectAndCompute(gray_in, None)\n",
    "kp2, ds2 = orb.detectAndCompute(gray_shifted_in, None)\n",
    "kp3, ds3 = orb.detectAndCompute(gray_out, None)\n",
    "kp4, ds4 = orb.detectAndCompute(gray_shifted_out, None)"
   ]
  },
  {
   "cell_type": "code",
   "execution_count": 8,
   "metadata": {},
   "outputs": [],
   "source": [
    "#total number of keypoints in the input image vs the enhanced_image\n",
    "#len(kp1),len(kp3)"
   ]
  },
  {
   "cell_type": "code",
   "execution_count": 9,
   "metadata": {},
   "outputs": [],
   "source": [
    "#for simply drawing keypoints on the images\n",
    "#im1 = cv2.drawKeypoints(input_im, kp1, None, flags=0, color = (0,255,0))\n",
    "#im2 = cv2.drawKeypoints(enhanced_im, kp2, None, flags=0, color = (0,255,0))\n",
    "\n",
    "#cv2 matcher object for feature matching\n",
    "matcher = cv2.BFMatcher(cv2.NORM_HAMMING, crossCheck = True)\n",
    "\n",
    "#matching the keypoints using descriptors\n",
    "matches_in = matcher.match(ds1,ds2)\n",
    "matches_in =  sorted(matches_in, key = lambda x:x.distance)\n",
    "matches_out = matcher.match(ds3,ds4)\n",
    "matches_out =  sorted(matches_out, key = lambda x:x.distance)"
   ]
  },
  {
   "cell_type": "code",
   "execution_count": 10,
   "metadata": {},
   "outputs": [],
   "source": [
    "#drawing the matches on the images\n",
    "#can use flag attribute for representing the match points with a diff shape eg.flags = cv2.DRAW_MATCHES_FLAGS_DRAW_OVER_OUTIMG \n",
    "matched_img_in = cv2.drawMatches(input_im, kp1, shifted_in_im, kp2,matches_in,None, matchColor = (0,255,0))\n",
    "matched_img_out = cv2.drawMatches(enhanced_im, kp3, shifted_out_im, kp4,matches_out,None, matchColor = (0,255,0))"
   ]
  },
  {
   "cell_type": "code",
   "execution_count": null,
   "metadata": {},
   "outputs": [],
   "source": []
  },
  {
   "cell_type": "code",
   "execution_count": null,
   "metadata": {},
   "outputs": [],
   "source": []
  }
 ],
 "metadata": {
  "kernelspec": {
   "display_name": "Python 3",
   "language": "python",
   "name": "python3"
  },
  "language_info": {
   "codemirror_mode": {
    "name": "ipython",
    "version": 3
   },
   "file_extension": ".py",
   "mimetype": "text/x-python",
   "name": "python",
   "nbconvert_exporter": "python",
   "pygments_lexer": "ipython3",
   "version": "3.6.5"
  }
 },
 "nbformat": 4,
 "nbformat_minor": 2
}
